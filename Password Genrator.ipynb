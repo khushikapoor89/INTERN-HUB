{
 "cells": [
  {
   "cell_type": "code",
   "execution_count": 14,
   "id": "bab05169",
   "metadata": {},
   "outputs": [],
   "source": [
    "import random \n",
    "import string"
   ]
  },
  {
   "cell_type": "code",
   "execution_count": 15,
   "id": "180d9e89",
   "metadata": {},
   "outputs": [],
   "source": [
    "password=''\n",
    "s1 = string.ascii_lowercase\n",
    "s2 = string.digits\n",
    "s3 = string.punctuation"
   ]
  },
  {
   "cell_type": "code",
   "execution_count": 16,
   "id": "f0af514d",
   "metadata": {},
   "outputs": [
    {
     "name": "stdout",
     "output_type": "stream",
     "text": [
      "welcome to password generator\n",
      "enter how many letters : 2\n",
      "enter how many numbers : 1\n",
      "enter how many symbols : 2\n",
      "Your Password :  {'7z%~o'}\n"
     ]
    }
   ],
   "source": [
    "print('welcome to password generator')\n",
    "words=[random.choice(s1)\n",
    "       for i in range(int(input('Enter How Many Letters : ')))]\n",
    "\n",
    "numbers=[random.choice(s2) \n",
    "         for i in range(int(input('Enter How Many Numbers : ')))]\n",
    "\n",
    "symbol=[random.choice(s3) \n",
    "        for i in range(int(input('Enter How Many Symbols : ')))]\n",
    "\n",
    "key=words+numbers+symbol\n",
    "\n",
    "random.shuffle(key)\n",
    "for i in key:\n",
    "    password=password+i\n",
    "print(f\"Your Password : \",{password})"
   ]
  },
  {
   "cell_type": "code",
   "execution_count": null,
   "id": "4ccc7e76",
   "metadata": {},
   "outputs": [],
   "source": []
  },
  {
   "cell_type": "code",
   "execution_count": null,
   "id": "435ee977",
   "metadata": {},
   "outputs": [],
   "source": []
  }
 ],
 "metadata": {
  "kernelspec": {
   "display_name": "Python 3 (ipykernel)",
   "language": "python",
   "name": "python3"
  },
  "language_info": {
   "codemirror_mode": {
    "name": "ipython",
    "version": 3
   },
   "file_extension": ".py",
   "mimetype": "text/x-python",
   "name": "python",
   "nbconvert_exporter": "python",
   "pygments_lexer": "ipython3",
   "version": "3.11.5"
  }
 },
 "nbformat": 4,
 "nbformat_minor": 5
}
