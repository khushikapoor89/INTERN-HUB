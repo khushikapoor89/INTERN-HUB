{
 "cells": [
  {
   "cell_type": "code",
   "execution_count": 4,
   "id": "2b519383",
   "metadata": {},
   "outputs": [],
   "source": [
    "contact = {}"
   ]
  },
  {
   "cell_type": "code",
   "execution_count": 5,
   "id": "5ce9aae1",
   "metadata": {},
   "outputs": [],
   "source": [
    "def display_contact():\n",
    "    print(contact.items())\n",
    "    print(\"Name\\t\\tContact Number\")\n",
    "    for key in contact:\n",
    "        print(format(key,contact.get(key)))"
   ]
  },
  {
   "cell_type": "code",
   "execution_count": null,
   "id": "89ed890e",
   "metadata": {},
   "outputs": [],
   "source": [
    "print(\"Welcome to your Contact Book!\")\n",
    "\n",
    "while True:\n",
    "    print(\"\\nWhat would you like to do?\")\n",
    "    print(\" \\n 1. Add a new contact\")\n",
    "    print(\" 2. Search for a contact\")\n",
    "    print(\" 3. View all contacts\")\n",
    "    print(\" 4. Edit a contact\")\n",
    "    print(\" 5. Delete a contact\")\n",
    "    print(\" 6. Exit the program\")\n",
    "    try:\n",
    "        choice = int(input(\"\\nEnter your choice (1-6): \"))\n",
    "    except ValueError:\n",
    "        print(\"Oops! Please enter a valid number between 1 and 6.\")\n",
    "        continue\n",
    "\n",
    "    if choice == 1:\n",
    "        name = input(\"Enter the contact's name: \").strip()\n",
    "        if name in contact:\n",
    "            print(f\"{name} is already in your contact book.\")\n",
    "        else:\n",
    "            phone = input(f\"Enter the phone number for {name}: \").strip()\n",
    "            contact[name] = phone\n",
    "            print(f\"{name} has been added successfully!\")\n",
    "\n",
    "    elif choice == 2:\n",
    "        search_name = input(\"Who are you looking for? Enter the name: \").strip()\n",
    "        if search_name in contact:\n",
    "            print(f\" {search_name}'s phone number is {contact[search_name]}.\")\n",
    "        else:\n",
    "            print(f\" Sorry, {search_name} isn't in your contact book.\")\n",
    "\n",
    "    elif choice == 3:\n",
    "        display_contact()\n",
    "\n",
    "    elif choice == 4:\n",
    "        edit_name = input(\"Which contact do you want to update? Enter the name: \").strip()\n",
    "        if edit_name in contact:\n",
    "            new_phone = input(f\"Enter the new phone number for {edit_name}: \").strip()\n",
    "            contact[edit_name] = new_phone\n",
    "            print(f\" {edit_name}'s contact has been updated!\")\n",
    "        else:\n",
    "            print(f\" Couldn't find {edit_name} in your contact book.\")\n",
    "\n",
    "    elif choice == 5:\n",
    "        del_name = input(\"Which contact do you want to delete? Enter the name: \").strip()\n",
    "        if del_name in contact:\n",
    "            confirm = input(f\"Are you sure you want to delete {del_name}? (y/n): \").strip().lower()\n",
    "            if confirm == 'y':\n",
    "                del contact[del_name]\n",
    "                print(f\" {del_name} has been deleted.\")\n",
    "            else:\n",
    "                print(\" Deletion canceled.\")\n",
    "        else:\n",
    "            print(f\"Couldn't find {del_name} in your contact book.\")\n",
    "\n",
    "    elif choice == 6:\n",
    "        print(\"\\n Thanks for using the Contact Book! Have a great day!\")\n",
    "        break\n",
    "\n",
    "    else:\n",
    "        print(\"Invalid choice! Please select a valid option (1-6).\")\n"
   ]
  }
 ],
 "metadata": {
  "kernelspec": {
   "display_name": "Python 3 (ipykernel)",
   "language": "python",
   "name": "python3"
  },
  "language_info": {
   "codemirror_mode": {
    "name": "ipython",
    "version": 3
   },
   "file_extension": ".py",
   "mimetype": "text/x-python",
   "name": "python",
   "nbconvert_exporter": "python",
   "pygments_lexer": "ipython3",
   "version": "3.11.5"
  }
 },
 "nbformat": 4,
 "nbformat_minor": 5
}
